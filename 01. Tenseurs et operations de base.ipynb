{
 "cells": [
  {
   "cell_type": "markdown",
   "id": "16627347-51f8-460c-ae67-79f2db3b57a0",
   "metadata": {},
   "source": [
    "# Tenseurs et opérations de base\n",
    "________________________________\n",
    "\n",
    "Dans ce cours, nous allons voir comment travailler avec des tenseurs : **comment en créer et effectuer des opérations basiques, comment convertir un numpy array en pytorch tenseur et vice-versa.**"
   ]
  },
  {
   "cell_type": "markdown",
   "id": "bae77224-5805-42f6-8534-9dad5df92e1d",
   "metadata": {},
   "source": [
    "Sur PyTorch, tout est basé sur l'utilisation des tenseurs et leurs différentes applications. Depuis Numpy, vous connaissez probablement les arrays et vecteurs, mais en PyTorch tout est en tenseur. Un tenseur est généralement une fonction des coordonnées de l'espace, défini dans un espace à n dimensions par nk composantes, où k est l'ordre du tenseur.\n",
    "\n",
    "Dans l'espace euclidien à trois dimensions, un tenseur d'ordre zéro est un scalaire, un tenseur d'ordre un est un vecteur, un tenseur d'ordre 2 est une matrice.\n",
    "\n",
    "Tout d'abord, importons le module PyTorch."
   ]
  },
  {
   "cell_type": "code",
   "execution_count": 1,
   "id": "2e5e23ad-0722-415f-8206-21f2157addd9",
   "metadata": {},
   "outputs": [],
   "source": [
    "import torch"
   ]
  },
  {
   "cell_type": "markdown",
   "id": "9dc42393-e919-4d2a-a937-7870d1397bde",
   "metadata": {},
   "source": [
    "Ensuite, créons un tenseur vide d'ordre 0, qui est égal à un scalaire."
   ]
  },
  {
   "cell_type": "code",
   "execution_count": 2,
   "id": "e0a3447d-efc4-42ee-9427-0e78598e1c45",
   "metadata": {},
   "outputs": [
    {
     "data": {
      "text/plain": [
       "tensor([0.])"
      ]
     },
     "execution_count": 2,
     "metadata": {},
     "output_type": "execute_result"
    }
   ],
   "source": [
    "x = torch.empty(1)\n",
    "x"
   ]
  },
  {
   "cell_type": "markdown",
   "id": "b25d5e17-3ef4-47cd-8d61-ce1a0114a2df",
   "metadata": {},
   "source": [
    "Si on remplace 1 par 3, on obtient un tenseur de dimension 1 avec trois valeurs, ce qui correspond à un vecteur à 3 valeurs."
   ]
  },
  {
   "cell_type": "code",
   "execution_count": 3,
   "id": "0247d2f4-2bee-4247-970a-9308f5eb9c3e",
   "metadata": {},
   "outputs": [
    {
     "data": {
      "text/plain": [
       "tensor([3.3733e-06, 1.6985e+22, 1.7488e-04])"
      ]
     },
     "execution_count": 3,
     "metadata": {},
     "output_type": "execute_result"
    }
   ],
   "source": [
    "x = torch.empty(3)\n",
    "x"
   ]
  },
  {
   "cell_type": "markdown",
   "id": "18391c9d-e9f1-42a1-93e8-17f95960124d",
   "metadata": {},
   "source": [
    "Pour augmenter l'ordre, il suffit d'ajouter des valeurs en paramètre dans la fonction ___empty()___. Par exemple, si je veux créer une matrice (donc un tenseur d'ordre deux) :"
   ]
  },
  {
   "cell_type": "code",
   "execution_count": 4,
   "id": "699d60c2-aa2f-4f56-8f5f-acb07aa6b713",
   "metadata": {},
   "outputs": [
    {
     "data": {
      "text/plain": [
       "tensor([[0., 0.],\n",
       "        [0., 0.],\n",
       "        [0., 0.]])"
      ]
     },
     "execution_count": 4,
     "metadata": {},
     "output_type": "execute_result"
    }
   ],
   "source": [
    "x = torch.empty(3, 2)\n",
    "x"
   ]
  },
  {
   "cell_type": "markdown",
   "id": "96dfe81d-5455-4e27-af1f-e0c1b0f481f6",
   "metadata": {},
   "source": [
    "Ou bien un tenseur d'ordre 3 :"
   ]
  },
  {
   "cell_type": "code",
   "execution_count": 5,
   "id": "ac32df99-b878-444d-b6b0-6c88849b0b30",
   "metadata": {},
   "outputs": [
    {
     "data": {
      "text/plain": [
       "tensor([[[0., 0.],\n",
       "         [0., 0.]],\n",
       "\n",
       "        [[0., 0.],\n",
       "         [0., 0.]],\n",
       "\n",
       "        [[0., 0.],\n",
       "         [0., 0.]]])"
      ]
     },
     "execution_count": 5,
     "metadata": {},
     "output_type": "execute_result"
    }
   ],
   "source": [
    "x = torch.empty(3, 2, 2)\n",
    "x"
   ]
  },
  {
   "cell_type": "markdown",
   "id": "d0f8671e-b108-4bcf-8e9a-dd9f0192bc3a",
   "metadata": {},
   "source": [
    "Nous pouvons créer aussi des tenseurs avec des valeurs aléatoire à l'aide de la fonction ___rand()___:"
   ]
  },
  {
   "cell_type": "code",
   "execution_count": 6,
   "id": "e61b506c-57cd-4a78-9f86-b73102e38104",
   "metadata": {},
   "outputs": [
    {
     "data": {
      "text/plain": [
       "tensor([[0.0625, 0.3383],\n",
       "        [0.3284, 0.5482],\n",
       "        [0.3496, 0.3159]])"
      ]
     },
     "execution_count": 6,
     "metadata": {},
     "output_type": "execute_result"
    }
   ],
   "source": [
    "x = torch.rand(3, 2)\n",
    "x"
   ]
  },
  {
   "cell_type": "markdown",
   "id": "f539cbfe-b238-4eed-b873-52e3a9a44303",
   "metadata": {},
   "source": [
    "Nous pouvons créer des tenseurs vides, avec des valeurs nulles à l'aide de la fonction ___zeros()___, ou bien des tenseurs rempli avec des valeurs égales à 1 à l'aide de la fonction ___ones()___ :"
   ]
  },
  {
   "cell_type": "code",
   "execution_count": 7,
   "id": "ad8667cb-c8a8-4399-baa8-da662ee5f975",
   "metadata": {},
   "outputs": [
    {
     "data": {
      "text/plain": [
       "tensor([[0., 0.],\n",
       "        [0., 0.],\n",
       "        [0., 0.]])"
      ]
     },
     "execution_count": 7,
     "metadata": {},
     "output_type": "execute_result"
    }
   ],
   "source": [
    "x = torch.zeros(3, 2)\n",
    "x"
   ]
  },
  {
   "cell_type": "code",
   "execution_count": 8,
   "id": "1dd05f66-8968-44c8-b29e-6402257a97ae",
   "metadata": {},
   "outputs": [
    {
     "data": {
      "text/plain": [
       "tensor([[1., 1.],\n",
       "        [1., 1.],\n",
       "        [1., 1.]])"
      ]
     },
     "execution_count": 8,
     "metadata": {},
     "output_type": "execute_result"
    }
   ],
   "source": [
    "x = torch.ones(3, 2)\n",
    "x"
   ]
  },
  {
   "cell_type": "markdown",
   "id": "90f5aa0a-ba48-4c5e-b01c-9cc62206af0b",
   "metadata": {},
   "source": [
    "Nous pouvons changer le type de données des tenseurs, et vérifier si le changement de type a bien été effectué :"
   ]
  },
  {
   "cell_type": "code",
   "execution_count": 9,
   "id": "f5632d9c-20ca-4e0d-9110-512d5d7fd2ab",
   "metadata": {},
   "outputs": [
    {
     "data": {
      "text/plain": [
       "torch.float32"
      ]
     },
     "execution_count": 9,
     "metadata": {},
     "output_type": "execute_result"
    }
   ],
   "source": [
    "x.dtype"
   ]
  },
  {
   "cell_type": "code",
   "execution_count": 10,
   "id": "75b537ff-284d-4384-a3eb-8653fe44b8d3",
   "metadata": {},
   "outputs": [
    {
     "data": {
      "text/plain": [
       "torch.float64"
      ]
     },
     "execution_count": 10,
     "metadata": {},
     "output_type": "execute_result"
    }
   ],
   "source": [
    "x = torch.ones(3, 2, dtype = torch.double)\n",
    "x.dtype"
   ]
  },
  {
   "cell_type": "markdown",
   "id": "6cd5259d-5570-4000-86d9-9a6deb576f98",
   "metadata": {},
   "source": [
    "Il existe plusieurs types de données : _float16, float32, double (float64)..._\n",
    "\n",
    "Nous pouvons aussi jeter un oeil sur la taille du tenseur avec la fonction ___size()___ :"
   ]
  },
  {
   "cell_type": "code",
   "execution_count": 11,
   "id": "e16c0f57-436c-41ba-b2ea-b660222f5ead",
   "metadata": {},
   "outputs": [
    {
     "data": {
      "text/plain": [
       "torch.Size([3, 2])"
      ]
     },
     "execution_count": 11,
     "metadata": {},
     "output_type": "execute_result"
    }
   ],
   "source": [
    "x.size()"
   ]
  },
  {
   "cell_type": "markdown",
   "id": "cef0216a-7665-429d-9d46-14ec18edaf40",
   "metadata": {},
   "source": [
    "Nous pouvons créer un tenseur à partir d'une liste Python avec la fonction ___tensor():___"
   ]
  },
  {
   "cell_type": "code",
   "execution_count": 12,
   "id": "bfae2afe-941e-49e5-8d08-e20828775d27",
   "metadata": {},
   "outputs": [
    {
     "data": {
      "text/plain": [
       "tensor([2.5000, 0.1000])"
      ]
     },
     "execution_count": 12,
     "metadata": {},
     "output_type": "execute_result"
    }
   ],
   "source": [
    "x = torch.tensor([2.5, 0.1])\n",
    "x"
   ]
  },
  {
   "cell_type": "markdown",
   "id": "7167d2bd-4148-479a-9ae9-41c0feb39507",
   "metadata": {},
   "source": [
    "Bien, maintenant vous savez comment créer des tenseurs à partir de PyTorch ! Voyons maintenant comment les utiliser avec des opérations de base.\n",
    "\n",
    "Créons deux tenseurs aléatoires d'ordre 2 avec deux valeurs dans chaque dimension, et essayons quelques opérations classiques."
   ]
  },
  {
   "cell_type": "code",
   "execution_count": 13,
   "id": "5f21ce13-5647-4c6e-8dc0-ed9ae7be4067",
   "metadata": {},
   "outputs": [
    {
     "data": {
      "text/plain": [
       "(tensor([[0.9653, 0.7143],\n",
       "         [0.5317, 0.6396]]),\n",
       " tensor([[0.7258, 0.6006],\n",
       "         [0.7952, 0.4469]]))"
      ]
     },
     "execution_count": 13,
     "metadata": {},
     "output_type": "execute_result"
    }
   ],
   "source": [
    "x = torch.rand(2, 2)\n",
    "y = torch.rand(2, 2)\n",
    "x, y"
   ]
  },
  {
   "cell_type": "markdown",
   "id": "dffe96c3-c429-4732-a6c5-4082e54a98e6",
   "metadata": {},
   "source": [
    "Additionnons les deux tenseurs et voyons le résultat :"
   ]
  },
  {
   "cell_type": "code",
   "execution_count": 14,
   "id": "3815e105-6321-447c-a19c-a104c8ad8d8e",
   "metadata": {},
   "outputs": [
    {
     "data": {
      "text/plain": [
       "tensor([[1.6910, 1.3149],\n",
       "        [1.3268, 1.0864]])"
      ]
     },
     "execution_count": 14,
     "metadata": {},
     "output_type": "execute_result"
    }
   ],
   "source": [
    "z = x + y\n",
    "z"
   ]
  },
  {
   "cell_type": "markdown",
   "id": "20957c07-9902-40db-9cdd-8d6b83b04de0",
   "metadata": {},
   "source": [
    "Chacune des entrées ont étés additionnées ensembles dans z. Nous pouvons aussi utiliser la fonction ___add()___ pour avoir le même résultat :"
   ]
  },
  {
   "cell_type": "code",
   "execution_count": 15,
   "id": "d590d6b4-3971-45ca-b670-2f0f5176e32f",
   "metadata": {},
   "outputs": [
    {
     "data": {
      "text/plain": [
       "tensor([[1.6910, 1.3149],\n",
       "        [1.3268, 1.0864]])"
      ]
     },
     "execution_count": 15,
     "metadata": {},
     "output_type": "execute_result"
    }
   ],
   "source": [
    "z = torch.add(x, y)\n",
    "z"
   ]
  },
  {
   "cell_type": "markdown",
   "id": "bce6a88b-3724-436b-a92c-20458e86b1b9",
   "metadata": {},
   "source": [
    "Nous pouvons aussi additionner l'un des tenseurs dans l'autre sans créer une nouvelle variable :"
   ]
  },
  {
   "cell_type": "code",
   "execution_count": 16,
   "id": "65f730af-5122-4d1b-ba8a-dd0d1208b384",
   "metadata": {},
   "outputs": [
    {
     "data": {
      "text/plain": [
       "tensor([[1.6910, 1.3149],\n",
       "        [1.3268, 1.0864]])"
      ]
     },
     "execution_count": 16,
     "metadata": {},
     "output_type": "execute_result"
    }
   ],
   "source": [
    "y.add_(x)"
   ]
  },
  {
   "cell_type": "markdown",
   "id": "fdcbd8d3-e013-4fbb-a387-7eda319dc38b",
   "metadata": {},
   "source": [
    "Par ailleurs dans PyTorch, toutes les fonctions avec un underscore vont modifier la variable sans en créer une nouvelle.\n",
    "\n",
    "Après les additions, nous pouvons soustraire les tenseurs entre eux, facilité avec la fonction ___sub()___ :"
   ]
  },
  {
   "cell_type": "code",
   "execution_count": 17,
   "id": "11085d5b-6d12-4c65-8d6b-3cba1d2a4e69",
   "metadata": {},
   "outputs": [
    {
     "data": {
      "text/plain": [
       "(tensor([[0.2902, 0.0284],\n",
       "         [0.9723, 0.8154]]),\n",
       " tensor([[0.2636, 0.2296],\n",
       "         [0.6941, 0.1326]]))"
      ]
     },
     "execution_count": 17,
     "metadata": {},
     "output_type": "execute_result"
    }
   ],
   "source": [
    "x = torch.rand(2, 2)\n",
    "y = torch.rand(2, 2)\n",
    "x, y"
   ]
  },
  {
   "cell_type": "code",
   "execution_count": 18,
   "id": "fd7b970d-4aba-4aa3-a677-cf7af6bc5799",
   "metadata": {},
   "outputs": [
    {
     "data": {
      "text/plain": [
       "tensor([[ 0.0266, -0.2012],\n",
       "        [ 0.2782,  0.6828]])"
      ]
     },
     "execution_count": 18,
     "metadata": {},
     "output_type": "execute_result"
    }
   ],
   "source": [
    "z = torch.sub(x, y)\n",
    "z"
   ]
  },
  {
   "cell_type": "code",
   "execution_count": 19,
   "id": "25f0d1ff-e943-491c-a610-34038ebf9775",
   "metadata": {},
   "outputs": [
    {
     "data": {
      "text/plain": [
       "tensor([[ 0.0266, -0.2012],\n",
       "        [ 0.2782,  0.6828]])"
      ]
     },
     "execution_count": 19,
     "metadata": {},
     "output_type": "execute_result"
    }
   ],
   "source": [
    "x.sub_(y)"
   ]
  },
  {
   "cell_type": "markdown",
   "id": "da1783ae-3176-4526-aaee-fc97113d7ad6",
   "metadata": {},
   "source": [
    "Nous avons ensuite les multiplications avec la fonction ___mul()___ :"
   ]
  },
  {
   "cell_type": "code",
   "execution_count": 20,
   "id": "68a232ed-dd37-4cd9-84b7-7a8de2356bdd",
   "metadata": {},
   "outputs": [
    {
     "data": {
      "text/plain": [
       "(tensor([[0.0214, 0.5336],\n",
       "         [0.6035, 0.3309]]),\n",
       " tensor([[0.6482, 0.6827],\n",
       "         [0.3811, 0.6995]]))"
      ]
     },
     "execution_count": 20,
     "metadata": {},
     "output_type": "execute_result"
    }
   ],
   "source": [
    "x = torch.rand(2, 2)\n",
    "y = torch.rand(2, 2)\n",
    "x, y"
   ]
  },
  {
   "cell_type": "code",
   "execution_count": 21,
   "id": "ffe4b788-d421-4d09-add7-6dab2561729b",
   "metadata": {},
   "outputs": [
    {
     "data": {
      "text/plain": [
       "tensor([[0.0139, 0.3643],\n",
       "        [0.2300, 0.2315]])"
      ]
     },
     "execution_count": 21,
     "metadata": {},
     "output_type": "execute_result"
    }
   ],
   "source": [
    "z = torch.mul(x, y)\n",
    "z"
   ]
  },
  {
   "cell_type": "code",
   "execution_count": 22,
   "id": "ed98493d-9785-4978-8cd2-e9ed0485b344",
   "metadata": {},
   "outputs": [
    {
     "data": {
      "text/plain": [
       "tensor([[0.0139, 0.3643],\n",
       "        [0.2300, 0.2315]])"
      ]
     },
     "execution_count": 22,
     "metadata": {},
     "output_type": "execute_result"
    }
   ],
   "source": [
    "y.mul_(x)"
   ]
  },
  {
   "cell_type": "markdown",
   "id": "9e258366-22a3-4355-b462-8f811f66d2d2",
   "metadata": {},
   "source": [
    "Et enfin les divisions avec la fonction ___div()___ :"
   ]
  },
  {
   "cell_type": "code",
   "execution_count": 23,
   "id": "b783e709-1b54-40f3-9339-b467b98466b1",
   "metadata": {},
   "outputs": [
    {
     "data": {
      "text/plain": [
       "(tensor([[0.0802, 0.0654],\n",
       "         [0.6071, 0.4018]]),\n",
       " tensor([[0.1325, 0.7295],\n",
       "         [0.5207, 0.7536]]))"
      ]
     },
     "execution_count": 23,
     "metadata": {},
     "output_type": "execute_result"
    }
   ],
   "source": [
    "x = torch.rand(2, 2)\n",
    "y = torch.rand(2, 2)\n",
    "x, y"
   ]
  },
  {
   "cell_type": "code",
   "execution_count": 24,
   "id": "6e9f151f-4805-4b2e-b1e6-f154b651a7dd",
   "metadata": {},
   "outputs": [
    {
     "data": {
      "text/plain": [
       "tensor([[0.6050, 0.0896],\n",
       "        [1.1659, 0.5332]])"
      ]
     },
     "execution_count": 24,
     "metadata": {},
     "output_type": "execute_result"
    }
   ],
   "source": [
    "z = torch.div(x, y)\n",
    "z"
   ]
  },
  {
   "cell_type": "code",
   "execution_count": 25,
   "id": "b694fe43-fe60-4e1e-96a1-0f3140cdf4db",
   "metadata": {},
   "outputs": [
    {
     "data": {
      "text/plain": [
       "tensor([[0.6050, 0.0896],\n",
       "        [1.1659, 0.5332]])"
      ]
     },
     "execution_count": 25,
     "metadata": {},
     "output_type": "execute_result"
    }
   ],
   "source": [
    "x.div_(y)"
   ]
  },
  {
   "cell_type": "markdown",
   "id": "c00d6801-1a7d-417a-97e0-ba34084c9537",
   "metadata": {},
   "source": [
    "Voici toutes les opérations de base que l'on peut faire avec les tenseurs !\n",
    "\n",
    "Nous pouvons faire des opérations de filtrage sur les tenseurs, comme l'on peut faire sur des Numpy arrays:"
   ]
  },
  {
   "cell_type": "code",
   "execution_count": 26,
   "id": "578c7908-cf5a-4c55-8bcd-fbafcebb6476",
   "metadata": {},
   "outputs": [
    {
     "data": {
      "text/plain": [
       "tensor([[0.5328, 0.7087, 0.5004],\n",
       "        [0.6323, 0.6642, 0.8196],\n",
       "        [0.1599, 0.5360, 0.6228],\n",
       "        [0.5296, 0.3211, 0.0084],\n",
       "        [0.5596, 0.0684, 0.9368]])"
      ]
     },
     "execution_count": 26,
     "metadata": {},
     "output_type": "execute_result"
    }
   ],
   "source": [
    "x = torch.rand(5, 3)\n",
    "x"
   ]
  },
  {
   "cell_type": "code",
   "execution_count": 27,
   "id": "038dad0e-f4a5-4f95-aa35-56987e97c6a9",
   "metadata": {},
   "outputs": [
    {
     "data": {
      "text/plain": [
       "tensor([0.5328, 0.6323, 0.1599, 0.5296, 0.5596])"
      ]
     },
     "execution_count": 27,
     "metadata": {},
     "output_type": "execute_result"
    }
   ],
   "source": [
    "# Nous voulons toutes les lignes mais uniquement la première colonne\n",
    "x[:, 0]"
   ]
  },
  {
   "cell_type": "code",
   "execution_count": 28,
   "id": "f44bae8e-9bda-45a1-a38d-1dc8aca8cc5e",
   "metadata": {},
   "outputs": [
    {
     "data": {
      "text/plain": [
       "tensor([0.5328, 0.7087, 0.5004])"
      ]
     },
     "execution_count": 28,
     "metadata": {},
     "output_type": "execute_result"
    }
   ],
   "source": [
    "# Nous voulons toutes les colonnes mais uniquement la première ligne \n",
    "x[0, :]"
   ]
  },
  {
   "cell_type": "code",
   "execution_count": 29,
   "id": "675d8f2d-f296-46d1-a9d7-cae700fd9b5a",
   "metadata": {},
   "outputs": [
    {
     "data": {
      "text/plain": [
       "tensor(0.6323)"
      ]
     },
     "execution_count": 29,
     "metadata": {},
     "output_type": "execute_result"
    }
   ],
   "source": [
    "# Nous voulons l'élément de la deuxième ligne, première colonne\n",
    "x[1, 0]"
   ]
  },
  {
   "cell_type": "code",
   "execution_count": 30,
   "id": "1e82b42c-08e0-4c09-98d9-051c7527420c",
   "metadata": {},
   "outputs": [
    {
     "data": {
      "text/plain": [
       "0.6322949528694153"
      ]
     },
     "execution_count": 30,
     "metadata": {},
     "output_type": "execute_result"
    }
   ],
   "source": [
    "# Si ce nouveau tenseur contient un unique élément, nous pouvons l'appeler avec la fonction item()\n",
    "x[1, 0].item()"
   ]
  },
  {
   "cell_type": "markdown",
   "id": "631679c0-7c10-4b4c-ae74-232904ae315f",
   "metadata": {},
   "source": [
    "Nous pouvons aussi remodifier la forme de nos tenseurs avec la fonction view() :"
   ]
  },
  {
   "cell_type": "code",
   "execution_count": 31,
   "id": "b4c374f1-340f-411c-a611-7f61e8024fc4",
   "metadata": {},
   "outputs": [
    {
     "data": {
      "text/plain": [
       "tensor([[0.1671, 0.3585, 0.0103, 0.8911],\n",
       "        [0.5023, 0.0144, 0.4083, 0.6087],\n",
       "        [0.7722, 0.4964, 0.8382, 0.3317],\n",
       "        [0.0788, 0.7028, 0.5497, 0.4717]])"
      ]
     },
     "execution_count": 31,
     "metadata": {},
     "output_type": "execute_result"
    }
   ],
   "source": [
    "x = torch.rand(4, 4)\n",
    "x"
   ]
  },
  {
   "cell_type": "code",
   "execution_count": 32,
   "id": "fecddf8f-d5f4-4561-8a17-318caed2e70b",
   "metadata": {},
   "outputs": [
    {
     "data": {
      "text/plain": [
       "tensor([0.1671, 0.3585, 0.0103, 0.8911, 0.5023, 0.0144, 0.4083, 0.6087, 0.7722,\n",
       "        0.4964, 0.8382, 0.3317, 0.0788, 0.7028, 0.5497, 0.4717])"
      ]
     },
     "execution_count": 32,
     "metadata": {},
     "output_type": "execute_result"
    }
   ],
   "source": [
    "# Ici, nous demandons à voir les 16 éléments dans une seule dimension\n",
    "y = x.view(16)\n",
    "y"
   ]
  },
  {
   "cell_type": "code",
   "execution_count": 33,
   "id": "f2e3a7a7-4dc1-4fae-ae85-cb0cea7f026d",
   "metadata": {},
   "outputs": [
    {
     "data": {
      "text/plain": [
       "tensor([[0.1671, 0.3585, 0.0103, 0.8911, 0.5023, 0.0144, 0.4083, 0.6087],\n",
       "        [0.7722, 0.4964, 0.8382, 0.3317, 0.0788, 0.7028, 0.5497, 0.4717]])"
      ]
     },
     "execution_count": 33,
     "metadata": {},
     "output_type": "execute_result"
    }
   ],
   "source": [
    "# Ici, nous demandons à voir les 16 éléments dans une matrice de 8x2\n",
    "y = x.view(-1, 8)\n",
    "y"
   ]
  },
  {
   "cell_type": "code",
   "execution_count": 34,
   "id": "aba7bab8-919d-4b98-85fa-445fcd9b669b",
   "metadata": {},
   "outputs": [
    {
     "data": {
      "text/plain": [
       "tensor([[0.1671, 0.3585],\n",
       "        [0.0103, 0.8911],\n",
       "        [0.5023, 0.0144],\n",
       "        [0.4083, 0.6087],\n",
       "        [0.7722, 0.4964],\n",
       "        [0.8382, 0.3317],\n",
       "        [0.0788, 0.7028],\n",
       "        [0.5497, 0.4717]])"
      ]
     },
     "execution_count": 34,
     "metadata": {},
     "output_type": "execute_result"
    }
   ],
   "source": [
    "# Ici nous demandons à voir les 16 éléments dans une matrice de 2x8\n",
    "y = x.view(-1, 2)\n",
    "y"
   ]
  },
  {
   "cell_type": "markdown",
   "id": "3725b6cc-d7e8-4cce-ae1d-408ca71d9037",
   "metadata": {},
   "source": [
    "Pour convertir un pytorch tenseur en numpy array, c'est très simple. \n",
    "\n",
    "Tout d'abord, importons le module numpy."
   ]
  },
  {
   "cell_type": "code",
   "execution_count": 35,
   "id": "4375113a-7dd1-4f05-8d2a-181cb86c0ac7",
   "metadata": {},
   "outputs": [],
   "source": [
    "import numpy as np"
   ]
  },
  {
   "cell_type": "code",
   "execution_count": 36,
   "id": "ca0f94c9-556a-4ebf-84ad-6c871a4c020a",
   "metadata": {},
   "outputs": [
    {
     "data": {
      "text/plain": [
       "tensor([1., 1., 1., 1., 1.])"
      ]
     },
     "execution_count": 36,
     "metadata": {},
     "output_type": "execute_result"
    }
   ],
   "source": [
    "a = torch.ones(5)\n",
    "a"
   ]
  },
  {
   "cell_type": "code",
   "execution_count": 37,
   "id": "3190abd2-0b58-4f3f-9267-c8888bc04077",
   "metadata": {},
   "outputs": [
    {
     "data": {
      "text/plain": [
       "array([1., 1., 1., 1., 1.], dtype=float32)"
      ]
     },
     "execution_count": 37,
     "metadata": {},
     "output_type": "execute_result"
    }
   ],
   "source": [
    "b = a.numpy()\n",
    "b"
   ]
  },
  {
   "cell_type": "code",
   "execution_count": 38,
   "id": "1c4a0b91-6f5c-4a22-9217-551eaad388a1",
   "metadata": {},
   "outputs": [
    {
     "data": {
      "text/plain": [
       "numpy.ndarray"
      ]
     },
     "execution_count": 38,
     "metadata": {},
     "output_type": "execute_result"
    }
   ],
   "source": [
    "type(b)"
   ]
  },
  {
   "cell_type": "markdown",
   "id": "e706450c-833d-4b67-a556-8756e9e54aee",
   "metadata": {},
   "source": [
    "On remarque que b est bien un numpy array.\n",
    "\n",
    "Cependant faites attention, si le tenseur est sur le CPU et non sur le GPU, les deux objets partagerons le même chemin sur la mémoire : si on modifie l'un des objets, on modifie aussi l'autre : "
   ]
  },
  {
   "cell_type": "code",
   "execution_count": 39,
   "id": "2f58f78f-df26-44ac-bed8-a04427631798",
   "metadata": {},
   "outputs": [
    {
     "data": {
      "text/plain": [
       "tensor([0.5000, 0.5000, 0.5000, 0.5000, 0.5000])"
      ]
     },
     "execution_count": 39,
     "metadata": {},
     "output_type": "execute_result"
    }
   ],
   "source": [
    "c = torch.tensor([0.5, 0.5, 0.5, 0.5, 0.5])\n",
    "a.sub_(c)"
   ]
  },
  {
   "cell_type": "code",
   "execution_count": 40,
   "id": "45f86d00-9c32-4924-a627-970ea5cbb97f",
   "metadata": {},
   "outputs": [
    {
     "data": {
      "text/plain": [
       "array([0.5, 0.5, 0.5, 0.5, 0.5], dtype=float32)"
      ]
     },
     "execution_count": 40,
     "metadata": {},
     "output_type": "execute_result"
    }
   ],
   "source": [
    "b"
   ]
  },
  {
   "cell_type": "markdown",
   "id": "bf4241e9-3f5b-41a1-b0a0-0ed6a77de822",
   "metadata": {},
   "source": [
    "On remarque qu'en modifiant l'objet \"a\", l'objet \"b\" a lui aussi été modifié.\n",
    "\n",
    "Pour changer un numpy array en pytorch tenseur, il suffit de réutiliser la fonction ___tensor()___ de pytorch:"
   ]
  },
  {
   "cell_type": "code",
   "execution_count": 41,
   "id": "bf897cb8-9392-430d-89bd-2ef0edce8460",
   "metadata": {},
   "outputs": [
    {
     "data": {
      "text/plain": [
       "array([1., 1., 1., 1., 1.])"
      ]
     },
     "execution_count": 41,
     "metadata": {},
     "output_type": "execute_result"
    }
   ],
   "source": [
    "a = np.ones(5)\n",
    "a"
   ]
  },
  {
   "cell_type": "code",
   "execution_count": 42,
   "id": "5ecd2a89-86a0-4f38-8f10-1d5c851bc6e0",
   "metadata": {},
   "outputs": [
    {
     "data": {
      "text/plain": [
       "tensor([1., 1., 1., 1., 1.], dtype=torch.float64)"
      ]
     },
     "execution_count": 42,
     "metadata": {},
     "output_type": "execute_result"
    }
   ],
   "source": [
    "b = torch.tensor(a)\n",
    "b"
   ]
  },
  {
   "cell_type": "code",
   "execution_count": 43,
   "id": "bc4f4312-f4fb-42bc-b1ea-f5790d3df4a5",
   "metadata": {},
   "outputs": [
    {
     "data": {
      "text/plain": [
       "torch.Tensor"
      ]
     },
     "execution_count": 43,
     "metadata": {},
     "output_type": "execute_result"
    }
   ],
   "source": [
    "type(b)"
   ]
  },
  {
   "cell_type": "markdown",
   "id": "6f618222-375a-4217-9916-19afb9b5c37a",
   "metadata": {},
   "source": [
    "Nous pouvons aussi utiliser la fonction ___from_numpy()___ :"
   ]
  },
  {
   "cell_type": "code",
   "execution_count": 44,
   "id": "f8e166f6-5517-47c7-a574-fd184997c42e",
   "metadata": {},
   "outputs": [
    {
     "data": {
      "text/plain": [
       "tensor([1., 1., 1., 1., 1.], dtype=torch.float64)"
      ]
     },
     "execution_count": 44,
     "metadata": {},
     "output_type": "execute_result"
    }
   ],
   "source": [
    "c = torch.from_numpy(a)\n",
    "c"
   ]
  },
  {
   "cell_type": "code",
   "execution_count": 45,
   "id": "7ccb715f-e2e8-4831-937d-79d5f2b0c79a",
   "metadata": {},
   "outputs": [
    {
     "data": {
      "text/plain": [
       "torch.Tensor"
      ]
     },
     "execution_count": 45,
     "metadata": {},
     "output_type": "execute_result"
    }
   ],
   "source": [
    "type(c)"
   ]
  },
  {
   "cell_type": "markdown",
   "id": "28871cd3-12ba-42f5-b5e1-49859c0decb4",
   "metadata": {},
   "source": [
    "Ici aussi, si l'array est sur le CPU et non sur le GPU, les deux objets partagerons le même chemin sur la mémoire : si on modifie l'un des objets, on modifie aussi l'autre. Donc faites attention !\n",
    "\n",
    "Si jamais vous avez installé CUDA Toolkit, vous pouvez créer les tenseurs sur votre GPU (et donc évitez que les deux objets partagent le même chemin). Pour ce faire, vous devez spécifier votre machine en utilisant la fonction ___device()___ : "
   ]
  },
  {
   "cell_type": "code",
   "execution_count": 46,
   "id": "ba74623f-9081-4d43-b080-c8dea0e4cb70",
   "metadata": {},
   "outputs": [
    {
     "data": {
      "text/plain": [
       "tensor([2., 2., 2., 2., 2.], device='cuda:0')"
      ]
     },
     "execution_count": 46,
     "metadata": {},
     "output_type": "execute_result"
    }
   ],
   "source": [
    "if torch.cuda.is_available():\n",
    "    device = torch.device(\"cuda\")\n",
    "    x = torch.ones(5, device=device)\n",
    "    y = torch.ones(5)\n",
    "    y = y.to(device)\n",
    "    z = x + y\n",
    "    \n",
    "z"
   ]
  },
  {
   "cell_type": "markdown",
   "id": "28af9cf3-3376-46be-92e9-0e20eee9d101",
   "metadata": {},
   "source": [
    "L'autre avantage d'utiliser le GPU est la rapidité d'exécution des commandes (en fonction de votre GPU, bien entendu). Mais faites attention car les numpy arrays ne peuvent utiliser que les tenseur CPU, donc il faut passer les tenseurs sur la mémoire du CPU."
   ]
  },
  {
   "cell_type": "code",
   "execution_count": 47,
   "id": "5eb6e33b-61c2-48ea-932b-16ecba3eeca2",
   "metadata": {},
   "outputs": [
    {
     "data": {
      "text/plain": [
       "array([2., 2., 2., 2., 2.], dtype=float32)"
      ]
     },
     "execution_count": 47,
     "metadata": {},
     "output_type": "execute_result"
    }
   ],
   "source": [
    "z = z.to(\"cpu\")\n",
    "z.numpy()"
   ]
  },
  {
   "cell_type": "markdown",
   "id": "5a5cbad3-dfc2-4b20-8081-184d9f1c1acb",
   "metadata": {},
   "source": [
    "Beaucoup de fois dans les pages de codes sur Internet, lorsqu'un tenseur est créé, on retrouve souvent l'argument \"_requites_grad=True_\" qui est sur False par défaut. Cela permet de demander à PyTorch de calculer le gradient du tenseur pour les étapes d'optimisation de l'IA. En prévision des futures lignes de codes que vous allez écrire, il est important de calculer les gradients pour pouvoir optimiser votre code, donc n'oubliez pas d'ajouter cet argument !"
   ]
  },
  {
   "cell_type": "markdown",
   "id": "3f4f8200-97af-485f-902b-238aec3770ea",
   "metadata": {},
   "source": [
    "____________________________________________________________________________________________________________________________________________________________________________________________________________"
   ]
  },
  {
   "cell_type": "markdown",
   "id": "644a6324-de45-4433-96a5-f9fde6e19d8a",
   "metadata": {},
   "source": [
    "C'est la fin de ce cours sur les opérations de base sur les tenseurs, merci à vous d'avoir été attentif et on se retrouve sur le prochain cours : le calcul des gradients avec Autograd !"
   ]
  },
  {
   "cell_type": "code",
   "execution_count": null,
   "id": "763112d1-65c6-43ce-8ff1-6d0cd5201894",
   "metadata": {},
   "outputs": [],
   "source": []
  }
 ],
 "metadata": {
  "kernelspec": {
   "display_name": "Python 3",
   "language": "python",
   "name": "python3"
  },
  "language_info": {
   "codemirror_mode": {
    "name": "ipython",
    "version": 3
   },
   "file_extension": ".py",
   "mimetype": "text/x-python",
   "name": "python",
   "nbconvert_exporter": "python",
   "pygments_lexer": "ipython3",
   "version": "3.8.8"
  }
 },
 "nbformat": 4,
 "nbformat_minor": 5
}
